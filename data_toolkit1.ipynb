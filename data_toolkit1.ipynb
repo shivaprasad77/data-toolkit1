{
 "cells": [
  {
   "cell_type": "markdown",
   "id": "94a2a714",
   "metadata": {},
   "source": [
    "1.What is NumPy, and why is it widely used in Python?\n",
    "\n",
    "NumPy is a powerful Python library for numerical computing.\n",
    "It provides support for multi-dimensional arrays and matrices.\n",
    "It includes a collection of mathematical functions to operate on arrays.\n",
    "It's fast and efficient, making it essential for data science tasks.\n",
    "\n",
    "import numpy as np\n",
    "a = np.array([1, 2, 3])"
   ]
  },
  {
   "cell_type": "markdown",
   "id": "8ae89dc7",
   "metadata": {},
   "source": [
    "2.How does broadcasting work in NumPy?\n",
    "\n",
    "Broadcasting allows NumPy to perform arithmetic operations on arrays of different shapes.\n",
    "Smaller arrays are \"stretched\" to match larger ones without copying data.\n",
    "This simplifies code and improves performance.\n",
    "Used when dimensions are compatible for operations.\n",
    "\n",
    "a = np.array([1, 2, 3])\n",
    "b = 2\n",
    "print(a + b)  # [3 4 5]"
   ]
  },
  {
   "cell_type": "markdown",
   "id": "9bb7bf50",
   "metadata": {},
   "source": [
    "3.What is a Pandas DataFrame?\n",
    "\n",
    "A DataFrame is a 2D labeled data structure in Pandas.\n",
    "It is like an Excel spreadsheet or SQL table.\n",
    "Each column can be of a different data type.\n",
    "Used widely for data analysis and manipulation.\n",
    "\n",
    "import pandas as pd\n",
    "df = pd.DataFrame({'A': [1, 2], 'B': [3, 4]})"
   ]
  },
  {
   "cell_type": "markdown",
   "id": "59ead292",
   "metadata": {},
   "source": [
    "4.Explain the use of the groupby() method in Pandas?\n",
    "\n",
    "groupby() is used to group data based on column values.\n",
    "It allows aggregation functions like sum, mean, etc., to be applied.\n",
    "Useful for analyzing grouped data quickly.\n",
    "Returns a GroupBy object to operate on.\n",
    "\n",
    "df.groupby('column_name').sum()"
   ]
  },
  {
   "cell_type": "markdown",
   "id": "be90b06d",
   "metadata": {},
   "source": [
    "5.Why is Seaborn preferred for statistical visualizations?\n",
    "\n",
    "Seaborn is built on Matplotlib and offers high-level interfaces.\n",
    "It provides beautiful and informative statistical plots easily.\n",
    "Supports complex visualizations like violin, box, and heatmaps.\n",
    "Automatically handles aesthetics and color themes.\n",
    "\n",
    "import seaborn as sns\n",
    "sns.boxplot(x='day', y='total_bill', data=tips)"
   ]
  },
  {
   "cell_type": "markdown",
   "id": "db27e43a",
   "metadata": {},
   "source": [
    "6.What are the differences between NumPy arrays and Python lists?\n",
    "\n",
    "NumPy arrays are more efficient and faster than Python lists.\n",
    "Arrays support element-wise operations and broadcasting.\n",
    "They are homogeneous, while lists can hold mixed data types.\n",
    "NumPy arrays consume less memory than lists.\n",
    "\n",
    "a = np.array([1, 2, 3])  # NumPy array\n",
    "b = [1, 2, 3]            # Python list"
   ]
  },
  {
   "cell_type": "markdown",
   "id": "a6edcba0",
   "metadata": {},
   "source": [
    "7.What is a heatmap, and when should it be used?\n",
    "\n",
    "A heatmap is a data visualization showing matrix values using color.\n",
    "It's useful for correlation matrices or pattern detection in data.\n",
    "Colors represent values, making comparisons easy.\n",
    "Widely used in data exploration and EDA.\n",
    "\n",
    "sns.heatmap(data.corr(), annot=True, cmap='coolwarm')"
   ]
  },
  {
   "cell_type": "markdown",
   "id": "f8178184",
   "metadata": {},
   "source": [
    "8.What does the term \"vectorized operation\" mean in NumPy?\n",
    "\n",
    "Vectorized operations allow array-wide computations without loops.\n",
    "They are faster and more concise than traditional Python loops.\n",
    "Enable parallel processing and efficiency.\n",
    "This is one key reason NumPy is fast.\n",
    "\n",
    "a = np.array([1, 2, 3])\n",
    "b = a * 2  # Vectorized multiplication"
   ]
  },
  {
   "cell_type": "markdown",
   "id": "6dab9894",
   "metadata": {},
   "source": [
    "9.How does Matplotlib differ from Plotly?\n",
    "\n",
    "Matplotlib is a static plotting library, great for basic visuals.\n",
    "Plotly creates interactive, web-based charts with rich features.\n",
    "Plotly supports zoom, tooltips, and hover without extra setup.\n",
    "Matplotlib is more customizable but less interactive.\n",
    "\n",
    "import matplotlib.pyplot as plt\n",
    "plt.plot([1, 2, 3], [4, 5, 6])\n",
    "\n",
    "import plotly.express as px\n",
    "px.line(x=[1, 2, 3], y=[4, 5, 6])"
   ]
  },
  {
   "cell_type": "markdown",
   "id": "949a8b1f",
   "metadata": {},
   "source": [
    "10.What is the significance of hierarchical indexing in Pandas?\n",
    "\n",
    "Hierarchical indexing allows multiple index levels in DataFrames.\n",
    "It helps with complex data and supports multi-level data aggregation.\n",
    "Enables easy slicing and reshaping of data.\n",
    "Useful in pivot tables and panel data.\n",
    "\n",
    "df = df.set_index(['Category', 'Subcategory'])"
   ]
  },
  {
   "cell_type": "markdown",
   "id": "17bd615f",
   "metadata": {},
   "source": [
    "11.What is the role of Seaborn's pairplot() function?\n",
    "\n",
    "pairplot() creates pairwise scatter plots for all numerical features.\n",
    "It helps visualize relationships between multiple variables.\n",
    "Also includes histograms or KDE plots on diagonals.\n",
    "Great for EDA and spotting trends or correlations.\n",
    "\n",
    "sns.pairplot(data)"
   ]
  },
  {
   "cell_type": "markdown",
   "id": "8650c4b6",
   "metadata": {},
   "source": [
    "12.What is the purpose of the describe() function in Pandas?\n",
    "\n",
    "describe() provides summary statistics of numerical columns.\n",
    "Includes count, mean, std, min, and percentiles.\n",
    "Helps understand data distribution quickly.\n",
    "Works for both numerical and categorical data.\n",
    "\n",
    "df.describe()"
   ]
  },
  {
   "cell_type": "markdown",
   "id": "8ff24864",
   "metadata": {},
   "source": [
    "13.Why is handling missing data important in Pandas?\n",
    "\n",
    "Missing data can lead to incorrect analysis or model training.\n",
    "Pandas provides tools to detect, remove, or fill missing values.\n",
    "Ensures data integrity and improves model performance.\n",
    "Should be handled before visualization or modeling.\n",
    "\n",
    "df.isnull().sum()\n",
    "df.fillna(0, inplace=True)"
   ]
  },
  {
   "cell_type": "markdown",
   "id": "381401f6",
   "metadata": {},
   "source": [
    "14.What are the benefits of using Plotly for data visualization? \n",
    "\n",
    "Plotly offers interactive, responsive, and web-friendly charts.\n",
    "Supports 3D plots, dashboards, and animations.\n",
    "Easy integration with web apps and Jupyter notebooks.\n",
    "Useful for presentations and sharing results.\n",
    "\n",
    "import plotly.express as px\n",
    "px.scatter(df, x='x', y='y')"
   ]
  },
  {
   "cell_type": "markdown",
   "id": "3251e752",
   "metadata": {},
   "source": [
    "15.How does NumPy handle multidimensional arrays?\n",
    "\n",
    "NumPy uses the ndarray object to store multidimensional arrays efficiently.\n",
    "It allows fast numerical computations and broadcasting.\n",
    "Arrays can have any number of dimensions (axes).\n",
    "Shape and dtype define structure and type of data.\n",
    "\n",
    "Example:\n",
    "\n",
    "import numpy as np\n",
    "arr = np.array([[1, 2], [3, 4]])  # 2D array"
   ]
  },
  {
   "cell_type": "markdown",
   "id": "27a6c2b5",
   "metadata": {},
   "source": [
    "16.What is the role of Bokeh in data visualization?\n",
    "\n",
    "Bokeh is a Python library for creating interactive and real-time visualizations.\n",
    "It supports browser-based plots with zoom, pan, and hover tools.\n",
    "Ideal for dashboards and web apps.\n",
    "Works well with large datasets.\n",
    "\n",
    "Example:\n",
    "\n",
    "from bokeh.plotting import figure, show\n",
    "p = figure()\n",
    "p.line([1, 2, 3], [4, 6, 2])\n",
    "show(p)"
   ]
  },
  {
   "cell_type": "markdown",
   "id": "affd45f1",
   "metadata": {},
   "source": [
    "17.Explain the difference between apply() and map() in Pandas\n",
    "\n",
    "map() works only on Series and applies a function element-wise.\n",
    "\n",
    "apply() works on both Series and DataFrames.\n",
    "\n",
    "apply() can apply row-wise or column-wise logic.\n",
    "\n",
    "map() is faster but less flexible.\n",
    "\n",
    "Example:\n",
    "\n",
    "df['col'].map(str.lower)\n",
    "df.apply(np.sum, axis=0)"
   ]
  },
  {
   "cell_type": "markdown",
   "id": "0fe894f9",
   "metadata": {},
   "source": [
    "18.What are some advanced features of NumPy?\n",
    "\n",
    "Broadcasting: Operate on arrays of different shapes.\n",
    "Vectorization: Speeds up operations without loops.\n",
    "Masking & Fancy indexing for complex data selection.\n",
    "Linear algebra, Fourier transforms, random sampling.\n",
    "\n",
    "Example:\n",
    "\n",
    "a = np.array([1, 2, 3])\n",
    "b = np.array([4])\n",
    "print(a + b)  # Broadcasting"
   ]
  },
  {
   "cell_type": "markdown",
   "id": "d2c41a0c",
   "metadata": {},
   "source": [
    "19.How does Pandas simplify time series analysis?\n",
    "\n",
    "Pandas supports date-time indexing, resampling, and frequency conversion.\n",
    "Built-in methods for lag, rolling, and shifting operations.\n",
    "It handles missing dates and time zones easily.\n",
    "Useful for financial and temporal data.\n",
    "\n",
    "Example:\n",
    "\n",
    "ts = pd.date_range('2023-01-01', periods=5, freq='D')\n",
    "data = pd.Series(range(5), index=ts)\n",
    "data.shift(1)"
   ]
  },
  {
   "cell_type": "markdown",
   "id": "d3a5cecb",
   "metadata": {},
   "source": [
    "20.What is the role of a pivot table in Pandas?\n",
    "\n",
    "Pivot tables summarize and reshape data.\n",
    "They allow aggregating by one or more keys.\n",
    "Useful for grouped data analysis (like Excel pivot).\n",
    "Simplifies multi-dimensional data exploration.\n",
    "\n",
    "Example:\n",
    "\n",
    "df.pivot_table(values='Sales', index='Region', columns='Product', aggfunc='sum')"
   ]
  },
  {
   "cell_type": "markdown",
   "id": "a6eaf2f4",
   "metadata": {},
   "source": [
    "21.Why is NumPy's array slicing faster than Python's list slicing?\n",
    "\n",
    "NumPy arrays store data in contiguous memory blocks.\n",
    "They use lower-level C operations for slicing.\n",
    "Avoids type checking and pointer overhead of lists.\n",
    "Allows vectorized, cache-efficient access.\n",
    "\n",
    "Example:\n",
    "\n",
    "arr = np.arange(100000)\n",
    "sliced = arr[::2]  # Fast slicing"
   ]
  },
  {
   "cell_type": "markdown",
   "id": "c8476be0",
   "metadata": {},
   "source": [
    "22.What are some common use cases for Seaborn?\n",
    "\n",
    "Seaborn is used for statistical data visualization.\n",
    "It simplifies plotting of distributions, categories, and regressions.\n",
    "Built on Matplotlib with better aesthetics.\n",
    "Useful for heatmaps, boxplots, and correlation plots.\n",
    "\n",
    "Example:\n",
    "\n",
    "import seaborn as sns\n",
    "sns.boxplot(x='species', y='sepal_length', data=df)"
   ]
  },
  {
   "cell_type": "code",
   "execution_count": null,
   "id": "d4b7ab38",
   "metadata": {},
   "outputs": [
    {
     "name": "stdout",
     "output_type": "stream",
     "text": [
      "Row sums: [ 6 15 24]\n"
     ]
    }
   ],
   "source": [
    "#1.A How do you create a 2D NumPy array and calculate the sum of each row.\n",
    "\n",
    "import numpy as np\n",
    "\n",
    "# Create a 2D array\n",
    "arr = np.array([[1, 2, 3],\n",
    "                [4, 5, 6],\n",
    "                [7, 8, 9]])\n",
    "\n",
    "# Sum of each row\n",
    "row_sums = np.sum(arr, axis=1)\n",
    "print(\"Row sums:\", row_sums)\n"
   ]
  },
  {
   "cell_type": "code",
   "execution_count": null,
   "id": "085844b0",
   "metadata": {},
   "outputs": [
    {
     "name": "stdout",
     "output_type": "stream",
     "text": [
      "Mean Score: 85.0\n"
     ]
    }
   ],
   "source": [
    "#2 Write a Pandas script to find the mean of a specific column in a DataFrame.\n",
    "\n",
    "import pandas as pd\n",
    "\n",
    "# Create DataFrame\n",
    "df = pd.DataFrame({\n",
    "    'Name': ['Alice', 'Bob', 'Charlie'],\n",
    "    'Score': [85, 92, 78]\n",
    "})\n",
    "\n",
    "# Find mean of the 'Score' column\n",
    "mean_score = df['Score'].mean()\n",
    "print(\"Mean Score:\", mean_score)\n"
   ]
  },
  {
   "cell_type": "code",
   "execution_count": 19,
   "id": "82c85230",
   "metadata": {},
   "outputs": [
    {
     "data": {
      "image/png": "[encoded data removed]",
      "text/plain": [
       "<Figure size 640x480 with 1 Axes>"
      ]
     },
     "metadata": {},
     "output_type": "display_data"
    }
   ],
   "source": [
    "#3. Create a scatter plot using Matplotlib.\n",
    "\n",
    "import matplotlib.pyplot as plt\n",
    "\n",
    "# Sample data\n",
    "x = [1, 2, 3, 4, 5]\n",
    "y = [2, 3, 5, 1, 4]\n",
    "\n",
    "# Create scatter plot\n",
    "plt.scatter(x, y, color='blue', marker='o')\n",
    "\n",
    "# Add labels and title\n",
    "plt.xlabel('X Axis')\n",
    "plt.ylabel('Y Axis')\n",
    "plt.title('Scatter Plot Example')\n",
    "\n",
    "# Show plot\n",
    "plt.show()\n"
   ]
  },
  {
   "cell_type": "code",
   "execution_count": 31,
   "id": "a7a42718",
   "metadata": {},
   "outputs": [
    {
     "name": "stdout",
     "output_type": "stream",
     "text": [
      "Requirement already satisfied: nbformat in c:\\users\\dell\\appdata\\local\\programs\\python\\python313\\lib\\site-packages (5.10.4)\n",
      "Requirement already satisfied: fastjsonschema>=2.15 in c:\\users\\dell\\appdata\\local\\programs\\python\\python313\\lib\\site-packages (from nbformat) (2.21.1)\n",
      "Requirement already satisfied: jsonschema>=2.6 in c:\\users\\dell\\appdata\\local\\programs\\python\\python313\\lib\\site-packages (from nbformat) (4.25.0)\n",
      "Requirement already satisfied: jupyter-core!=5.0.*,>=4.12 in c:\\users\\dell\\appdata\\roaming\\python\\python313\\site-packages (from nbformat) (5.8.1)\n",
      "Requirement already satisfied: traitlets>=5.1 in c:\\users\\dell\\appdata\\roaming\\python\\python313\\site-packages (from nbformat) (5.14.3)\n",
      "Requirement already satisfied: attrs>=22.2.0 in c:\\users\\dell\\appdata\\local\\programs\\python\\python313\\lib\\site-packages (from jsonschema>=2.6->nbformat) (25.3.0)\n",
      "Requirement already satisfied: jsonschema-specifications>=2023.03.6 in c:\\users\\dell\\appdata\\local\\programs\\python\\python313\\lib\\site-packages (from jsonschema>=2.6->nbformat) (2025.4.1)\n",
      "Requirement already satisfied: referencing>=0.28.4 in c:\\users\\dell\\appdata\\local\\programs\\python\\python313\\lib\\site-packages (from jsonschema>=2.6->nbformat) (0.36.2)\n",
      "Requirement already satisfied: rpds-py>=0.7.1 in c:\\users\\dell\\appdata\\local\\programs\\python\\python313\\lib\\site-packages (from jsonschema>=2.6->nbformat) (0.26.0)\n",
      "Requirement already satisfied: platformdirs>=2.5 in c:\\users\\dell\\appdata\\roaming\\python\\python313\\site-packages (from jupyter-core!=5.0.*,>=4.12->nbformat) (4.3.8)\n",
      "Requirement already satisfied: pywin32>=300 in c:\\users\\dell\\appdata\\roaming\\python\\python313\\site-packages (from jupyter-core!=5.0.*,>=4.12->nbformat) (310)\n",
      "Note: you may need to restart the kernel to use updated packages.\n"
     ]
    }
   ],
   "source": [
    "\n",
    "pip install nbformat --upgrade\n"
   ]
  },
  {
   "cell_type": "code",
   "execution_count": null,
   "id": "bfde2aa7",
   "metadata": {},
   "outputs": [
    {
     "data": {
      "image/png": "[encoded data removed]",
      "text/plain": [
       "<Figure size 640x480 with 2 Axes>"
      ]
     },
     "metadata": {},
     "output_type": "display_data"
    }
   ],
   "source": [
    "#4 How do you calculate the correlation matrix using Seaborn and visualize it with a heatmap\n",
    "\n",
    "import seaborn as sns\n",
    "import pandas as pd\n",
    "import matplotlib.pyplot as plt\n",
    "\n",
    "# Load example dataset\n",
    "df = sns.load_dataset('iris')\n",
    "\n",
    "# Calculate correlation matrix\n",
    "corr_matrix = df.corr(numeric_only=True)\n",
    "\n",
    "# Plot heatmap\n",
    "sns.heatmap(corr_matrix, annot=True, cmap='coolwarm')\n",
    "plt.title('Correlation Matrix Heatmap')\n",
    "plt.show()\n"
   ]
  },
  {
   "cell_type": "code",
   "execution_count": 29,
   "id": "50bb4c16",
   "metadata": {},
   "outputs": [
    {
     "ename": "ValueError",
     "evalue": "Mime type rendering requires nbformat>=4.2.0 but it is not installed",
     "output_type": "error",
     "traceback": [
      "\u001b[31m---------------------------------------------------------------------------\u001b[39m",
      "\u001b[31mValueError\u001b[39m                                Traceback (most recent call last)",
      "\u001b[36mCell\u001b[39m\u001b[36m \u001b[39m\u001b[32mIn[29]\u001b[39m\u001b[32m, line 13\u001b[39m\n\u001b[32m     10\u001b[39m fig = go.Figure(data=[go.Bar(x=categories, y=values)])\n\u001b[32m     12\u001b[39m \u001b[38;5;66;03m# Show plot\u001b[39;00m\n\u001b[32m---> \u001b[39m\u001b[32m13\u001b[39m \u001b[43mfig\u001b[49m\u001b[43m.\u001b[49m\u001b[43mshow\u001b[49m\u001b[43m(\u001b[49m\u001b[43m)\u001b[49m\n",
      "\u001b[36mFile \u001b[39m\u001b[32mc:\\Users\\DELL\\AppData\\Local\\Programs\\Python\\Python313\\Lib\\site-packages\\plotly\\basedatatypes.py:3420\u001b[39m, in \u001b[36mBaseFigure.show\u001b[39m\u001b[34m(self, *args, **kwargs)\u001b[39m\n\u001b[32m   3387\u001b[39m \u001b[38;5;250m\u001b[39m\u001b[33;03m\"\"\"\u001b[39;00m\n\u001b[32m   3388\u001b[39m \u001b[33;03mShow a figure using either the default renderer(s) or the renderer(s)\u001b[39;00m\n\u001b[32m   3389\u001b[39m \u001b[33;03mspecified by the renderer argument\u001b[39;00m\n\u001b[32m   (...)\u001b[39m\u001b[32m   3416\u001b[39m \u001b[33;03mNone\u001b[39;00m\n\u001b[32m   3417\u001b[39m \u001b[33;03m\"\"\"\u001b[39;00m\n\u001b[32m   3418\u001b[39m \u001b[38;5;28;01mimport\u001b[39;00m\u001b[38;5;250m \u001b[39m\u001b[34;01mplotly\u001b[39;00m\u001b[34;01m.\u001b[39;00m\u001b[34;01mio\u001b[39;00m\u001b[38;5;250m \u001b[39m\u001b[38;5;28;01mas\u001b[39;00m\u001b[38;5;250m \u001b[39m\u001b[34;01mpio\u001b[39;00m\n\u001b[32m-> \u001b[39m\u001b[32m3420\u001b[39m \u001b[38;5;28;01mreturn\u001b[39;00m \u001b[43mpio\u001b[49m\u001b[43m.\u001b[49m\u001b[43mshow\u001b[49m\u001b[43m(\u001b[49m\u001b[38;5;28;43mself\u001b[39;49m\u001b[43m,\u001b[49m\u001b[43m \u001b[49m\u001b[43m*\u001b[49m\u001b[43margs\u001b[49m\u001b[43m,\u001b[49m\u001b[43m \u001b[49m\u001b[43m*\u001b[49m\u001b[43m*\u001b[49m\u001b[43mkwargs\u001b[49m\u001b[43m)\u001b[49m\n",
      "\u001b[36mFile \u001b[39m\u001b[32mc:\\Users\\DELL\\AppData\\Local\\Programs\\Python\\Python313\\Lib\\site-packages\\plotly\\io\\_renderers.py:415\u001b[39m, in \u001b[36mshow\u001b[39m\u001b[34m(fig, renderer, validate, **kwargs)\u001b[39m\n\u001b[32m    410\u001b[39m     \u001b[38;5;28;01mraise\u001b[39;00m \u001b[38;5;167;01mValueError\u001b[39;00m(\n\u001b[32m    411\u001b[39m         \u001b[33m\"\u001b[39m\u001b[33mMime type rendering requires ipython but it is not installed\u001b[39m\u001b[33m\"\u001b[39m\n\u001b[32m    412\u001b[39m     )\n\u001b[32m    414\u001b[39m \u001b[38;5;28;01mif\u001b[39;00m \u001b[38;5;129;01mnot\u001b[39;00m nbformat \u001b[38;5;129;01mor\u001b[39;00m Version(nbformat.__version__) < Version(\u001b[33m\"\u001b[39m\u001b[33m4.2.0\u001b[39m\u001b[33m\"\u001b[39m):\n\u001b[32m--> \u001b[39m\u001b[32m415\u001b[39m     \u001b[38;5;28;01mraise\u001b[39;00m \u001b[38;5;167;01mValueError\u001b[39;00m(\n\u001b[32m    416\u001b[39m         \u001b[33m\"\u001b[39m\u001b[33mMime type rendering requires nbformat>=4.2.0 but it is not installed\u001b[39m\u001b[33m\"\u001b[39m\n\u001b[32m    417\u001b[39m     )\n\u001b[32m    419\u001b[39m display_jupyter_version_warnings()\n\u001b[32m    421\u001b[39m ipython_display.display(bundle, raw=\u001b[38;5;28;01mTrue\u001b[39;00m)\n",
      "\u001b[31mValueError\u001b[39m: Mime type rendering requires nbformat>=4.2.0 but it is not installed"
     ]
    }
   ],
   "source": [
    "#5 Generate a bar plot using Plotly\n",
    "\n",
    "import plotly.graph_objects as go\n",
    "\n",
    "# Sample data\n",
    "categories = ['A', 'B', 'C', 'D']\n",
    "values = [10, 15, 7, 12]\n",
    "\n",
    "# Create bar plot\n",
    "fig = go.Figure(data=[go.Bar(x=categories, y=values)])\n",
    "\n",
    "# Show plot\n",
    "fig.show()\n"
   ]
  },
  {
   "cell_type": "code",
   "execution_count": null,
   "id": "9ffc713d",
   "metadata": {},
   "outputs": [
    {
     "name": "stdout",
     "output_type": "stream",
     "text": [
      "    A   B\n",
      "0  10  20\n",
      "1  20  40\n",
      "2  30  60\n",
      "3  40  80\n"
     ]
    }
   ],
   "source": [
    "#6 Create a DataFrame and add a new column based on an existing column\n",
    "\n",
    "import pandas as pd\n",
    "\n",
    "# Create DataFrame\n",
    "df = pd.DataFrame({\n",
    "    'A': [10, 20, 30, 40]\n",
    "})\n",
    "\n",
    "# Add new column 'B' which is double of 'A'\n",
    "df['B'] = df['A'] * 2\n",
    "\n",
    "print(df)\n"
   ]
  },
  {
   "cell_type": "code",
   "execution_count": null,
   "id": "439f775e",
   "metadata": {},
   "outputs": [
    {
     "name": "stdout",
     "output_type": "stream",
     "text": [
      "Result: [ 4 10 18]\n"
     ]
    }
   ],
   "source": [
    "#7 Write a program to perform element-wise multiplication of two NumPy arrays.\n",
    "import numpy as np\n",
    "\n",
    "# Define two arrays\n",
    "a = np.array([1, 2, 3])\n",
    "b = np.array([4, 5, 6])\n",
    "\n",
    "# Element-wise multiplication\n",
    "result = a * b\n",
    "\n",
    "print(\"Result:\", result)\n"
   ]
  },
  {
   "cell_type": "code",
   "execution_count": 33,
   "id": "ab9e48fe",
   "metadata": {},
   "outputs": [
    {
     "data": {
      "image/png": "[encoded data removed]",
      "text/plain": [
       "<Figure size 640x480 with 1 Axes>"
      ]
     },
     "metadata": {},
     "output_type": "display_data"
    }
   ],
   "source": [
    "#8 Create a line plot with multiple lines using Matplotlib.\n",
    "\n",
    "import matplotlib.pyplot as plt\n",
    "\n",
    "# Sample data\n",
    "x = [1, 2, 3, 4, 5]\n",
    "y1 = [2, 3, 5, 7, 11]\n",
    "y2 = [1, 4, 6, 8, 10]\n",
    "\n",
    "# Plot multiple lines\n",
    "plt.plot(x, y1, label='Line 1', color='blue', marker='o')\n",
    "plt.plot(x, y2, label='Line 2', color='red', marker='s')\n",
    "\n",
    "# Add labels and title\n",
    "plt.xlabel('X Axis')\n",
    "plt.ylabel('Y Axis')\n",
    "plt.title('Multiple Line Plot')\n",
    "\n",
    "# Show legend\n",
    "plt.legend()\n",
    "\n",
    "# Display plot\n",
    "plt.show()\n"
   ]
  },
  {
   "cell_type": "code",
   "execution_count": 34,
   "id": "45eac1e4",
   "metadata": {},
   "outputs": [
    {
     "name": "stdout",
     "output_type": "stream",
     "text": [
      "    Name  Age\n",
      "1    Bob   32\n",
      "3  David   47\n"
     ]
    }
   ],
   "source": [
    "#9.Generate a Pandas DataFrame and filter rows where a column value is greater than a threshold.\n",
    "\n",
    "import pandas as pd\n",
    "\n",
    "# Create DataFrame\n",
    "df = pd.DataFrame({\n",
    "    'Name': ['Alice', 'Bob', 'Charlie', 'David'],\n",
    "    'Age': [25, 32, 18, 47]\n",
    "})\n",
    "\n",
    "# Filter rows where Age > 30\n",
    "filtered_df = df[df['Age'] > 30]\n",
    "\n",
    "print(filtered_df)\n"
   ]
  },
  {
   "cell_type": "code",
   "execution_count": 35,
   "id": "2610114a",
   "metadata": {},
   "outputs": [
    {
     "data": {
      "image/png": "[encoded data removed]",
      "text/plain": [
       "<Figure size 640x480 with 1 Axes>"
      ]
     },
     "metadata": {},
     "output_type": "display_data"
    }
   ],
   "source": [
    "#10. Create a histogram using Seaborn to visualize a distribution.\n",
    "\n",
    "import seaborn as sns\n",
    "import matplotlib.pyplot as plt\n",
    "import numpy as np\n",
    "\n",
    "# Generate random data\n",
    "data = np.random.randn(1000)\n",
    "\n",
    "# Create histogram with KDE\n",
    "sns.histplot(data, bins=30, kde=True)\n",
    "\n",
    "# Add title\n",
    "plt.title('Histogram with KDE')\n",
    "\n",
    "# Show plot\n",
    "plt.show()\n",
    "\n"
   ]
  },
  {
   "cell_type": "code",
   "execution_count": 36,
   "id": "a347b54a",
   "metadata": {},
   "outputs": [
    {
     "name": "stdout",
     "output_type": "stream",
     "text": [
      "Matrix Multiplication Result:\n",
      " [[19 22]\n",
      " [43 50]]\n"
     ]
    }
   ],
   "source": [
    "#11.Perform matrix multiplication using NumPy.\n",
    "\n",
    "import numpy as np\n",
    "\n",
    "# Define two matrices\n",
    "A = np.array([[1, 2],\n",
    "              [3, 4]])\n",
    "\n",
    "B = np.array([[5, 6],\n",
    "              [7, 8]])\n",
    "\n",
    "# Matrix multiplication\n",
    "result = np.dot(A, B)\n",
    "# Alternatively: result = A @ B\n",
    "\n",
    "print(\"Matrix Multiplication Result:\\n\", result)\n",
    "\n"
   ]
  },
  {
   "cell_type": "code",
   "execution_count": 40,
   "id": "7a00936a",
   "metadata": {},
   "outputs": [
    {
     "name": "stdout",
     "output_type": "stream",
     "text": [
      "                        Industry\n",
      "0             Accounting/Finance\n",
      "1   Advertising/Public Relations\n",
      "2             Aerospace/Aviation\n",
      "3  Arts/Entertainment/Publishing\n",
      "4                     Automotive\n"
     ]
    }
   ],
   "source": [
    "#12.Use Pandas to load a CSV file and display its first 5 rows.\n",
    "\n",
    "import pandas as pd\n",
    "\n",
    "# Replace 'your_file.csv' with the path to your CSV file\n",
    "df = pd.read_csv('industry.csv')\n",
    "\n",
    "# Print the first 5 rows\n",
    "print(df.head())\n"
   ]
  },
  {
   "cell_type": "code",
   "execution_count": 41,
   "id": "76ddfeba",
   "metadata": {},
   "outputs": [
    {
     "ename": "ValueError",
     "evalue": "Mime type rendering requires nbformat>=4.2.0 but it is not installed",
     "output_type": "error",
     "traceback": [
      "\u001b[31m---------------------------------------------------------------------------\u001b[39m",
      "\u001b[31mValueError\u001b[39m                                Traceback (most recent call last)",
      "\u001b[36mCell\u001b[39m\u001b[36m \u001b[39m\u001b[32mIn[41]\u001b[39m\u001b[32m, line 26\u001b[39m\n\u001b[32m     11\u001b[39m fig = go.Figure(data=[go.Scatter3d(\n\u001b[32m     12\u001b[39m     x=x,\n\u001b[32m     13\u001b[39m     y=y,\n\u001b[32m   (...)\u001b[39m\u001b[32m     21\u001b[39m     )\n\u001b[32m     22\u001b[39m )])\n\u001b[32m     24\u001b[39m fig.update_layout(title=\u001b[33m'\u001b[39m\u001b[33m3D Scatter Plot\u001b[39m\u001b[33m'\u001b[39m)\n\u001b[32m---> \u001b[39m\u001b[32m26\u001b[39m \u001b[43mfig\u001b[49m\u001b[43m.\u001b[49m\u001b[43mshow\u001b[49m\u001b[43m(\u001b[49m\u001b[43m)\u001b[49m\n",
      "\u001b[36mFile \u001b[39m\u001b[32mc:\\Users\\DELL\\AppData\\Local\\Programs\\Python\\Python313\\Lib\\site-packages\\plotly\\basedatatypes.py:3420\u001b[39m, in \u001b[36mBaseFigure.show\u001b[39m\u001b[34m(self, *args, **kwargs)\u001b[39m\n\u001b[32m   3387\u001b[39m \u001b[38;5;250m\u001b[39m\u001b[33;03m\"\"\"\u001b[39;00m\n\u001b[32m   3388\u001b[39m \u001b[33;03mShow a figure using either the default renderer(s) or the renderer(s)\u001b[39;00m\n\u001b[32m   3389\u001b[39m \u001b[33;03mspecified by the renderer argument\u001b[39;00m\n\u001b[32m   (...)\u001b[39m\u001b[32m   3416\u001b[39m \u001b[33;03mNone\u001b[39;00m\n\u001b[32m   3417\u001b[39m \u001b[33;03m\"\"\"\u001b[39;00m\n\u001b[32m   3418\u001b[39m \u001b[38;5;28;01mimport\u001b[39;00m\u001b[38;5;250m \u001b[39m\u001b[34;01mplotly\u001b[39;00m\u001b[34;01m.\u001b[39;00m\u001b[34;01mio\u001b[39;00m\u001b[38;5;250m \u001b[39m\u001b[38;5;28;01mas\u001b[39;00m\u001b[38;5;250m \u001b[39m\u001b[34;01mpio\u001b[39;00m\n\u001b[32m-> \u001b[39m\u001b[32m3420\u001b[39m \u001b[38;5;28;01mreturn\u001b[39;00m \u001b[43mpio\u001b[49m\u001b[43m.\u001b[49m\u001b[43mshow\u001b[49m\u001b[43m(\u001b[49m\u001b[38;5;28;43mself\u001b[39;49m\u001b[43m,\u001b[49m\u001b[43m \u001b[49m\u001b[43m*\u001b[49m\u001b[43margs\u001b[49m\u001b[43m,\u001b[49m\u001b[43m \u001b[49m\u001b[43m*\u001b[49m\u001b[43m*\u001b[49m\u001b[43mkwargs\u001b[49m\u001b[43m)\u001b[49m\n",
      "\u001b[36mFile \u001b[39m\u001b[32mc:\\Users\\DELL\\AppData\\Local\\Programs\\Python\\Python313\\Lib\\site-packages\\plotly\\io\\_renderers.py:415\u001b[39m, in \u001b[36mshow\u001b[39m\u001b[34m(fig, renderer, validate, **kwargs)\u001b[39m\n\u001b[32m    410\u001b[39m     \u001b[38;5;28;01mraise\u001b[39;00m \u001b[38;5;167;01mValueError\u001b[39;00m(\n\u001b[32m    411\u001b[39m         \u001b[33m\"\u001b[39m\u001b[33mMime type rendering requires ipython but it is not installed\u001b[39m\u001b[33m\"\u001b[39m\n\u001b[32m    412\u001b[39m     )\n\u001b[32m    414\u001b[39m \u001b[38;5;28;01mif\u001b[39;00m \u001b[38;5;129;01mnot\u001b[39;00m nbformat \u001b[38;5;129;01mor\u001b[39;00m Version(nbformat.__version__) < Version(\u001b[33m\"\u001b[39m\u001b[33m4.2.0\u001b[39m\u001b[33m\"\u001b[39m):\n\u001b[32m--> \u001b[39m\u001b[32m415\u001b[39m     \u001b[38;5;28;01mraise\u001b[39;00m \u001b[38;5;167;01mValueError\u001b[39;00m(\n\u001b[32m    416\u001b[39m         \u001b[33m\"\u001b[39m\u001b[33mMime type rendering requires nbformat>=4.2.0 but it is not installed\u001b[39m\u001b[33m\"\u001b[39m\n\u001b[32m    417\u001b[39m     )\n\u001b[32m    419\u001b[39m display_jupyter_version_warnings()\n\u001b[32m    421\u001b[39m ipython_display.display(bundle, raw=\u001b[38;5;28;01mTrue\u001b[39;00m)\n",
      "\u001b[31mValueError\u001b[39m: Mime type rendering requires nbformat>=4.2.0 but it is not installed"
     ]
    }
   ],
   "source": [
    "#13. Create a 3D scatter plot using Plotly.\n",
    "\n",
    "import plotly.graph_objects as go\n",
    "\n",
    "# Sample data\n",
    "x = [1, 2, 3, 4]\n",
    "y = [5, 6, 7, 8]\n",
    "z = [9, 10, 11, 12]\n",
    "\n",
    "# Create 3D scatter plot\n",
    "fig = go.Figure(data=[go.Scatter3d(\n",
    "    x=x,\n",
    "    y=y,\n",
    "    z=z,\n",
    "    mode='markers',\n",
    "    marker=dict(\n",
    "        size=8,\n",
    "        color=z,           # Color by z-value\n",
    "        colorscale='Viridis',\n",
    "        opacity=0.8\n",
    "    )\n",
    ")])\n",
    "\n",
    "fig.update_layout(title='3D Scatter Plot')\n",
    "\n",
    "fig.show()\n",
    "\n"
   ]
  },
  {
   "cell_type": "code",
   "execution_count": 42,
   "id": "881d194b",
   "metadata": {},
   "outputs": [
    {
     "ename": "ValueError",
     "evalue": "Mime type rendering requires nbformat>=4.2.0 but it is not installed",
     "output_type": "error",
     "traceback": [
      "\u001b[31m---------------------------------------------------------------------------\u001b[39m",
      "\u001b[31mValueError\u001b[39m                                Traceback (most recent call last)",
      "\u001b[36mCell\u001b[39m\u001b[36m \u001b[39m\u001b[32mIn[42]\u001b[39m\u001b[32m, line 13\u001b[39m\n\u001b[32m     10\u001b[39m fig = go.Figure(data=[go.Bar(x=categories, y=values)])\n\u001b[32m     12\u001b[39m \u001b[38;5;66;03m# Show plot\u001b[39;00m\n\u001b[32m---> \u001b[39m\u001b[32m13\u001b[39m \u001b[43mfig\u001b[49m\u001b[43m.\u001b[49m\u001b[43mshow\u001b[49m\u001b[43m(\u001b[49m\u001b[43m)\u001b[49m\n",
      "\u001b[36mFile \u001b[39m\u001b[32mc:\\Users\\DELL\\AppData\\Local\\Programs\\Python\\Python313\\Lib\\site-packages\\plotly\\basedatatypes.py:3420\u001b[39m, in \u001b[36mBaseFigure.show\u001b[39m\u001b[34m(self, *args, **kwargs)\u001b[39m\n\u001b[32m   3387\u001b[39m \u001b[38;5;250m\u001b[39m\u001b[33;03m\"\"\"\u001b[39;00m\n\u001b[32m   3388\u001b[39m \u001b[33;03mShow a figure using either the default renderer(s) or the renderer(s)\u001b[39;00m\n\u001b[32m   3389\u001b[39m \u001b[33;03mspecified by the renderer argument\u001b[39;00m\n\u001b[32m   (...)\u001b[39m\u001b[32m   3416\u001b[39m \u001b[33;03mNone\u001b[39;00m\n\u001b[32m   3417\u001b[39m \u001b[33;03m\"\"\"\u001b[39;00m\n\u001b[32m   3418\u001b[39m \u001b[38;5;28;01mimport\u001b[39;00m\u001b[38;5;250m \u001b[39m\u001b[34;01mplotly\u001b[39;00m\u001b[34;01m.\u001b[39;00m\u001b[34;01mio\u001b[39;00m\u001b[38;5;250m \u001b[39m\u001b[38;5;28;01mas\u001b[39;00m\u001b[38;5;250m \u001b[39m\u001b[34;01mpio\u001b[39;00m\n\u001b[32m-> \u001b[39m\u001b[32m3420\u001b[39m \u001b[38;5;28;01mreturn\u001b[39;00m \u001b[43mpio\u001b[49m\u001b[43m.\u001b[49m\u001b[43mshow\u001b[49m\u001b[43m(\u001b[49m\u001b[38;5;28;43mself\u001b[39;49m\u001b[43m,\u001b[49m\u001b[43m \u001b[49m\u001b[43m*\u001b[49m\u001b[43margs\u001b[49m\u001b[43m,\u001b[49m\u001b[43m \u001b[49m\u001b[43m*\u001b[49m\u001b[43m*\u001b[49m\u001b[43mkwargs\u001b[49m\u001b[43m)\u001b[49m\n",
      "\u001b[36mFile \u001b[39m\u001b[32mc:\\Users\\DELL\\AppData\\Local\\Programs\\Python\\Python313\\Lib\\site-packages\\plotly\\io\\_renderers.py:415\u001b[39m, in \u001b[36mshow\u001b[39m\u001b[34m(fig, renderer, validate, **kwargs)\u001b[39m\n\u001b[32m    410\u001b[39m     \u001b[38;5;28;01mraise\u001b[39;00m \u001b[38;5;167;01mValueError\u001b[39;00m(\n\u001b[32m    411\u001b[39m         \u001b[33m\"\u001b[39m\u001b[33mMime type rendering requires ipython but it is not installed\u001b[39m\u001b[33m\"\u001b[39m\n\u001b[32m    412\u001b[39m     )\n\u001b[32m    414\u001b[39m \u001b[38;5;28;01mif\u001b[39;00m \u001b[38;5;129;01mnot\u001b[39;00m nbformat \u001b[38;5;129;01mor\u001b[39;00m Version(nbformat.__version__) < Version(\u001b[33m\"\u001b[39m\u001b[33m4.2.0\u001b[39m\u001b[33m\"\u001b[39m):\n\u001b[32m--> \u001b[39m\u001b[32m415\u001b[39m     \u001b[38;5;28;01mraise\u001b[39;00m \u001b[38;5;167;01mValueError\u001b[39;00m(\n\u001b[32m    416\u001b[39m         \u001b[33m\"\u001b[39m\u001b[33mMime type rendering requires nbformat>=4.2.0 but it is not installed\u001b[39m\u001b[33m\"\u001b[39m\n\u001b[32m    417\u001b[39m     )\n\u001b[32m    419\u001b[39m display_jupyter_version_warnings()\n\u001b[32m    421\u001b[39m ipython_display.display(bundle, raw=\u001b[38;5;28;01mTrue\u001b[39;00m)\n",
      "\u001b[31mValueError\u001b[39m: Mime type rendering requires nbformat>=4.2.0 but it is not installed"
     ]
    }
   ],
   "source": [
    "#5 Generate a bar plot using Plotly\n",
    "\n",
    "import plotly.graph_objects as go\n",
    "\n",
    "# Sample data\n",
    "categories = ['A', 'B', 'C', 'D']\n",
    "values = [10, 15, 7, 12]\n",
    "\n",
    "# Create bar plot\n",
    "fig = go.Figure(data=[go.Bar(x=categories, y=values)])\n",
    "\n",
    "# Show plot\n",
    "fig.show()\n"
   ]
  }
 ],
 "metadata": {
  "kernelspec": {
   "display_name": "Python 3",
   "language": "python",
   "name": "python3"
  },
  "language_info": {
   "codemirror_mode": {
    "name": "ipython",
    "version": 3
   },
   "file_extension": ".py",
   "mimetype": "text/x-python",
   "name": "python",
   "nbconvert_exporter": "python",
   "pygments_lexer": "ipython3",
   "version": "3.13.5"
  }
 },
 "nbformat": 4,
 "nbformat_minor": 5
}
